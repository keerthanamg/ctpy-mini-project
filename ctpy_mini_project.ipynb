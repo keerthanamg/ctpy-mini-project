{
  "nbformat": 4,
  "nbformat_minor": 0,
  "metadata": {
    "colab": {
      "provenance": [],
      "authorship_tag": "ABX9TyOZwN5WQUwJu7ZEszXE3rSf",
      "include_colab_link": true
    },
    "kernelspec": {
      "name": "python3",
      "display_name": "Python 3"
    },
    "language_info": {
      "name": "python"
    }
  },
  "cells": [
    {
      "cell_type": "markdown",
      "metadata": {
        "id": "view-in-github",
        "colab_type": "text"
      },
      "source": [
        "<a href=\"https://colab.research.google.com/github/keerthanamg/ctpy-mini-project/blob/main/ctpy_mini_project.ipynb\" target=\"_parent\"><img src=\"https://colab.research.google.com/assets/colab-badge.svg\" alt=\"Open In Colab\"/></a>"
      ]
    },
    {
      "cell_type": "code",
      "execution_count": null,
      "metadata": {
        "id": "TLRBlKi7vKzY"
      },
      "outputs": [],
      "source": [
        "answer_yes = [\"Yes\", \"Y\", \"yes\", \"y\"]\n",
        "answer_no = [\"No\", \"N\", \"no\", \"n\"]\n",
        "print(\"\"\" WELCOME! LET'S START THE ADVENTURE\n",
        "\n",
        "You are standing outside of your house and you see a man running towards you and asking for urgent shelter. Will you provide shelter to him. (Yes / No) \"\"\")\n",
        "ans1 = input(\">>\")\n",
        "if ans1 in answer_yes:\n",
        "print(\"\\nAfter 2 minutes, the Police came to your house, and ask you that whether the thief is in your house or\n",
        "not. Will you say (Yes / No)\\n\")\n",
        "ans2 = input(\">>\")\n",
        "\n",
        "if ans2 in answer_yes:\n",
        "print(\"\\nYou are an honest person. He was a thief & You won the Game\")\n",
        "elif ans2 in answer_no:\n",
        "print(\"\\nYou helped a thief. Now, go to Jail. GAME OVER\")\n",
        "else:\n",
        "print(\"\\nYou typed the wrong input. GOODBYE!\")\n",
        "elif ans1 in answer_no:\n",
        "print(\"\\nNow, he is trying to kill you. Will, you knock him down? (Yes / No)\\n\")\n",
        "ans3 = input(\">>\")\n",
        "if ans3 in answer_yes:\n",
        "print(\"\\nCongrats! He was a thief & You helped the police to catch him with your bravery.\")\n",
        "\n",
        "elif ans3 in answer_no:\n",
        "print(\"\\nSorry! You are dead. He was a thief & He killed you. GAME OVER\")\n",
        "else:\n",
        "print(\"\\nYou typed the wrong input. GOODBYE!\")\n",
        "else:\n",
        "print(\"\\nYou typed the wrong input. GOODBYE!\")"
      ]
    }
  ]
}